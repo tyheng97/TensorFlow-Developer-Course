{
  "nbformat": 4,
  "nbformat_minor": 0,
  "metadata": {
    "accelerator": "GPU",
    "colab": {
      "name": "C2_W3_Lab_1_transfer_learning.ipynb",
      "provenance": [],
      "collapsed_sections": [],
      "toc_visible": true
    },
    "kernelspec": {
      "name": "python3",
      "display_name": "Python 3"
    },
    "language_info": {
      "name": "python"
    }
  },
  "cells": [
    {
      "cell_type": "markdown",
      "metadata": {
        "id": "rX8mhOLljYeM"
      },
      "source": [
        "##### Copyright 2019 The TensorFlow Authors."
      ]
    },
    {
      "cell_type": "code",
      "metadata": {
        "cellView": "form",
        "id": "BZSlp3DAjdYf"
      },
      "source": [
        "#@title Licensed under the Apache License, Version 2.0 (the \"License\");\n",
        "# you may not use this file except in compliance with the License.\n",
        "# You may obtain a copy of the License at\n",
        "#\n",
        "# https://www.apache.org/licenses/LICENSE-2.0\n",
        "#\n",
        "# Unless required by applicable law or agreed to in writing, software\n",
        "# distributed under the License is distributed on an \"AS IS\" BASIS,\n",
        "# WITHOUT WARRANTIES OR CONDITIONS OF ANY KIND, either express or implied.\n",
        "# See the License for the specific language governing permissions and\n",
        "# limitations under the License."
      ],
      "execution_count": null,
      "outputs": []
    },
    {
      "cell_type": "markdown",
      "metadata": {
        "id": "Qvrr8pLRzJMV"
      },
      "source": [
        "**IMPORTANT NOTE:** This notebook is designed to run as a Colab. Click the button on top that says, `Open in Colab`, to run this notebook as a Colab. Running the notebook on your local machine might result in some of the code blocks throwing errors."
      ]
    },
    {
      "cell_type": "code",
      "metadata": {
        "id": "1xJZ5glPPCRz",
        "outputId": "062ba0ef-5358-496e-bfed-5097b4a07bc8",
        "colab": {
          "base_uri": "https://localhost:8080/"
        }
      },
      "source": [
        "import os\n",
        "\n",
        "from tensorflow.keras import layers\n",
        "from tensorflow.keras import Model\n",
        "\n",
        "!wget --no-check-certificate \\\n",
        "    https://storage.googleapis.com/mledu-datasets/inception_v3_weights_tf_dim_ordering_tf_kernels_notop.h5 \\\n",
        "    -O /tmp/inception_v3_weights_tf_dim_ordering_tf_kernels_notop.h5\n",
        "  \n"
      ],
      "execution_count": 1,
      "outputs": [
        {
          "output_type": "stream",
          "name": "stdout",
          "text": [
            "--2021-11-19 09:54:27--  https://storage.googleapis.com/mledu-datasets/inception_v3_weights_tf_dim_ordering_tf_kernels_notop.h5\n",
            "Resolving storage.googleapis.com (storage.googleapis.com)... 74.125.70.128, 74.125.132.128, 64.233.182.128, ...\n",
            "Connecting to storage.googleapis.com (storage.googleapis.com)|74.125.70.128|:443... connected.\n",
            "HTTP request sent, awaiting response... 200 OK\n",
            "Length: 87910968 (84M) [application/x-hdf]\n",
            "Saving to: ‘/tmp/inception_v3_weights_tf_dim_ordering_tf_kernels_notop.h5’\n",
            "\n",
            "/tmp/inception_v3_w 100%[===================>]  83.84M   141MB/s    in 0.6s    \n",
            "\n",
            "2021-11-19 09:54:28 (141 MB/s) - ‘/tmp/inception_v3_weights_tf_dim_ordering_tf_kernels_notop.h5’ saved [87910968/87910968]\n",
            "\n"
          ]
        }
      ]
    },
    {
      "cell_type": "code",
      "metadata": {
        "id": "KsiBCpQ1VvPp",
        "outputId": "ef1ce0d5-0c31-46bc-a4d7-6d066e11373e",
        "colab": {
          "base_uri": "https://localhost:8080/"
        }
      },
      "source": [
        "from tensorflow.keras.applications.inception_v3 import InceptionV3\n",
        "\n",
        "local_weights_file = '/tmp/inception_v3_weights_tf_dim_ordering_tf_kernels_notop.h5'\n",
        "\n",
        "pre_trained_model = InceptionV3(input_shape = (150, 150, 3), \n",
        "                                include_top = False, \n",
        "                                weights = None)\n",
        "\n",
        "pre_trained_model.load_weights(local_weights_file)\n",
        "\n",
        "for layer in pre_trained_model.layers:\n",
        "  layer.trainable = False\n",
        "  \n",
        "# pre_trained_model.summary()\n",
        "\n",
        "last_layer = pre_trained_model.get_layer('mixed7')\n",
        "print('last layer output shape: ', last_layer.output_shape)\n",
        "last_output = last_layer.output"
      ],
      "execution_count": 2,
      "outputs": [
        {
          "output_type": "stream",
          "name": "stdout",
          "text": [
            "last layer output shape:  (None, 7, 7, 768)\n"
          ]
        }
      ]
    },
    {
      "cell_type": "code",
      "metadata": {
        "id": "BMXb913pbvFg"
      },
      "source": [
        "from tensorflow.keras.optimizers import RMSprop\n",
        "\n",
        "# Flatten the output layer to 1 dimension\n",
        "x = layers.Flatten()(last_output)\n",
        "# Add a fully connected layer with 1,024 hidden units and ReLU activation\n",
        "x = layers.Dense(1024, activation='relu')(x)\n",
        "# Add a dropout rate of 0.2\n",
        "x = layers.Dropout(0.2)(x)                  \n",
        "# Add a final sigmoid layer for classification\n",
        "x = layers.Dense  (1, activation='sigmoid')(x)           \n",
        "\n",
        "model = Model( pre_trained_model.input, x) \n",
        "\n",
        "model.compile(optimizer = RMSprop(learning_rate=0.0001), \n",
        "              loss = 'binary_crossentropy', \n",
        "              metrics = ['accuracy'])\n"
      ],
      "execution_count": 3,
      "outputs": []
    },
    {
      "cell_type": "code",
      "metadata": {
        "id": "O4s8HckqGlnb",
        "outputId": "d0bec9ed-b125-4e1a-ea1f-0e03450dd469",
        "colab": {
          "base_uri": "https://localhost:8080/"
        }
      },
      "source": [
        "!gdown --id 1RL0T7Rg4XqQNRCkjfnLo4goOJQ7XZro9\n",
        "\n",
        "from tensorflow.keras.preprocessing.image import ImageDataGenerator\n",
        "\n",
        "import os\n",
        "import zipfile\n",
        "\n",
        "zip_ref = zipfile.ZipFile(\"./cats_and_dogs_filtered.zip\", 'r')\n",
        "zip_ref.extractall(\"tmp/\")\n",
        "zip_ref.close()\n",
        "\n",
        "# Define our example directories and files\n",
        "base_dir = 'tmp/cats_and_dogs_filtered'\n",
        "\n",
        "train_dir = os.path.join( base_dir, 'train')\n",
        "validation_dir = os.path.join( base_dir, 'validation')\n",
        "\n",
        "\n",
        "train_cats_dir = os.path.join(train_dir, 'cats') # Directory with our training cat pictures\n",
        "train_dogs_dir = os.path.join(train_dir, 'dogs') # Directory with our training dog pictures\n",
        "validation_cats_dir = os.path.join(validation_dir, 'cats') # Directory with our validation cat pictures\n",
        "validation_dogs_dir = os.path.join(validation_dir, 'dogs')# Directory with our validation dog pictures\n",
        "\n",
        "train_cat_fnames = os.listdir(train_cats_dir)\n",
        "train_dog_fnames = os.listdir(train_dogs_dir)\n",
        "\n",
        "# Add our data-augmentation parameters to ImageDataGenerator\n",
        "train_datagen = ImageDataGenerator(rescale = 1./255.,\n",
        "                                   rotation_range = 40,\n",
        "                                   width_shift_range = 0.2,\n",
        "                                   height_shift_range = 0.2,\n",
        "                                   shear_range = 0.2,\n",
        "                                   zoom_range = 0.2,\n",
        "                                   horizontal_flip = True)\n",
        "\n",
        "# Note that the validation data should not be augmented!\n",
        "test_datagen = ImageDataGenerator( rescale = 1.0/255. )\n",
        "\n",
        "# Flow training images in batches of 20 using train_datagen generator\n",
        "train_generator = train_datagen.flow_from_directory(train_dir,\n",
        "                                                    batch_size = 20,\n",
        "                                                    class_mode = 'binary', \n",
        "                                                    target_size = (150, 150))     \n",
        "\n",
        "# Flow validation images in batches of 20 using test_datagen generator\n",
        "validation_generator =  test_datagen.flow_from_directory( validation_dir,\n",
        "                                                          batch_size  = 20,\n",
        "                                                          class_mode  = 'binary', \n",
        "                                                          target_size = (150, 150))"
      ],
      "execution_count": 4,
      "outputs": [
        {
          "output_type": "stream",
          "name": "stdout",
          "text": [
            "Downloading...\n",
            "From: https://drive.google.com/uc?id=1RL0T7Rg4XqQNRCkjfnLo4goOJQ7XZro9\n",
            "To: /content/cats_and_dogs_filtered.zip\n",
            "100% 68.6M/68.6M [00:00<00:00, 91.5MB/s]\n",
            "Found 2000 images belonging to 2 classes.\n",
            "Found 1000 images belonging to 2 classes.\n"
          ]
        }
      ]
    },
    {
      "cell_type": "code",
      "metadata": {
        "id": "Blhq2MAUeyGA",
        "outputId": "5c986c7b-14e8-4404-e17d-ea1df1de8fbb",
        "colab": {
          "base_uri": "https://localhost:8080/"
        }
      },
      "source": [
        "history = model.fit(\n",
        "            train_generator,\n",
        "            validation_data = validation_generator,\n",
        "            steps_per_epoch = 100,\n",
        "            epochs = 20,\n",
        "            validation_steps = 50,\n",
        "            verbose = 2)"
      ],
      "execution_count": 5,
      "outputs": [
        {
          "output_type": "stream",
          "name": "stdout",
          "text": [
            "Epoch 1/20\n",
            "100/100 - 56s - loss: 0.3490 - accuracy: 0.8645 - val_loss: 0.1253 - val_accuracy: 0.9510 - 56s/epoch - 564ms/step\n",
            "Epoch 2/20\n",
            "100/100 - 22s - loss: 0.2163 - accuracy: 0.9115 - val_loss: 0.1413 - val_accuracy: 0.9600 - 22s/epoch - 216ms/step\n",
            "Epoch 3/20\n",
            "100/100 - 22s - loss: 0.2230 - accuracy: 0.9180 - val_loss: 0.0970 - val_accuracy: 0.9680 - 22s/epoch - 223ms/step\n",
            "Epoch 4/20\n",
            "100/100 - 21s - loss: 0.1872 - accuracy: 0.9320 - val_loss: 0.0977 - val_accuracy: 0.9690 - 21s/epoch - 212ms/step\n",
            "Epoch 5/20\n",
            "100/100 - 21s - loss: 0.1920 - accuracy: 0.9275 - val_loss: 0.1364 - val_accuracy: 0.9620 - 21s/epoch - 214ms/step\n",
            "Epoch 6/20\n",
            "100/100 - 21s - loss: 0.1742 - accuracy: 0.9410 - val_loss: 0.2221 - val_accuracy: 0.9360 - 21s/epoch - 211ms/step\n",
            "Epoch 7/20\n",
            "100/100 - 21s - loss: 0.1565 - accuracy: 0.9405 - val_loss: 0.1257 - val_accuracy: 0.9680 - 21s/epoch - 210ms/step\n",
            "Epoch 8/20\n",
            "100/100 - 22s - loss: 0.1812 - accuracy: 0.9415 - val_loss: 0.1691 - val_accuracy: 0.9600 - 22s/epoch - 220ms/step\n",
            "Epoch 9/20\n",
            "100/100 - 22s - loss: 0.1737 - accuracy: 0.9450 - val_loss: 0.1038 - val_accuracy: 0.9680 - 22s/epoch - 215ms/step\n",
            "Epoch 10/20\n",
            "100/100 - 22s - loss: 0.1471 - accuracy: 0.9455 - val_loss: 0.1526 - val_accuracy: 0.9590 - 22s/epoch - 218ms/step\n",
            "Epoch 11/20\n",
            "100/100 - 22s - loss: 0.1765 - accuracy: 0.9410 - val_loss: 0.1322 - val_accuracy: 0.9720 - 22s/epoch - 217ms/step\n",
            "Epoch 12/20\n",
            "100/100 - 22s - loss: 0.1494 - accuracy: 0.9465 - val_loss: 0.1457 - val_accuracy: 0.9640 - 22s/epoch - 217ms/step\n",
            "Epoch 13/20\n",
            "100/100 - 22s - loss: 0.1384 - accuracy: 0.9545 - val_loss: 0.1736 - val_accuracy: 0.9490 - 22s/epoch - 216ms/step\n",
            "Epoch 14/20\n",
            "100/100 - 22s - loss: 0.1433 - accuracy: 0.9535 - val_loss: 0.1551 - val_accuracy: 0.9640 - 22s/epoch - 216ms/step\n",
            "Epoch 15/20\n",
            "100/100 - 23s - loss: 0.1357 - accuracy: 0.9610 - val_loss: 0.1348 - val_accuracy: 0.9650 - 23s/epoch - 226ms/step\n",
            "Epoch 16/20\n",
            "100/100 - 21s - loss: 0.1317 - accuracy: 0.9570 - val_loss: 0.1739 - val_accuracy: 0.9580 - 21s/epoch - 214ms/step\n",
            "Epoch 17/20\n",
            "100/100 - 22s - loss: 0.1605 - accuracy: 0.9525 - val_loss: 0.1861 - val_accuracy: 0.9550 - 22s/epoch - 221ms/step\n",
            "Epoch 18/20\n",
            "100/100 - 21s - loss: 0.1562 - accuracy: 0.9500 - val_loss: 0.1879 - val_accuracy: 0.9510 - 21s/epoch - 213ms/step\n",
            "Epoch 19/20\n",
            "100/100 - 22s - loss: 0.1211 - accuracy: 0.9595 - val_loss: 0.1313 - val_accuracy: 0.9650 - 22s/epoch - 217ms/step\n",
            "Epoch 20/20\n",
            "100/100 - 21s - loss: 0.1365 - accuracy: 0.9565 - val_loss: 0.1563 - val_accuracy: 0.9650 - 21s/epoch - 213ms/step\n"
          ]
        }
      ]
    },
    {
      "cell_type": "code",
      "metadata": {
        "id": "C2Fp6Se9rKuL"
      },
      "source": [
        "import matplotlib.pyplot as plt\n",
        "acc = history.history['accuracy']\n",
        "val_acc = history.history['val_accuracy']\n",
        "loss = history.history['loss']\n",
        "val_loss = history.history['val_loss']\n",
        "\n",
        "epochs = range(len(acc))\n",
        "\n",
        "plt.plot(epochs, acc, 'r', label='Training accuracy')\n",
        "plt.plot(epochs, val_acc, 'b', label='Validation accuracy')\n",
        "plt.title('Training and validation accuracy')\n",
        "plt.legend(loc=0)\n",
        "plt.figure()\n",
        "\n",
        "\n",
        "plt.show()"
      ],
      "execution_count": null,
      "outputs": []
    }
  ]
}